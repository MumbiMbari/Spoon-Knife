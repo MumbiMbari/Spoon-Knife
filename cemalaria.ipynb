{
  "metadata": {
    "language_info": {
      "name": "python",
      "version": "3.6.4",
      "mimetype": "text/x-python",
      "codemirror_mode": {
        "name": "ipython",
        "version": 3
      },
      "pygments_lexer": "ipython3",
      "nbconvert_exporter": "python",
      "file_extension": ".py"
    },
    "kernelspec": {
      "display_name": "Python 3",
      "language": "python",
      "name": "python3"
    },
    "colab": {
      "provenance": [],
      "include_colab_link": true
    }
  },
  "nbformat_minor": 0,
  "nbformat": 4,
  "cells": [
    {
      "cell_type": "markdown",
      "metadata": {
        "id": "view-in-github",
        "colab_type": "text"
      },
      "source": [
        "<a href=\"https://colab.research.google.com/github/MumbiMbari/Spoon-Knife/blob/main/cemalaria.ipynb\" target=\"_parent\"><img src=\"https://colab.research.google.com/assets/colab-badge.svg\" alt=\"Open In Colab\"/></a>"
      ]
    },
    {
      "cell_type": "code",
      "source": [
        "from google.colab import drive\n",
        "drive.mount('/content/drive')"
      ],
      "metadata": {
        "colab": {
          "base_uri": "https://localhost:8080/"
        },
        "id": "u7srnlAcjDVj",
        "outputId": "3bbaa3db-c04b-4914-d052-87d1105d48c9"
      },
      "execution_count": 1,
      "outputs": [
        {
          "output_type": "stream",
          "name": "stdout",
          "text": [
            "Drive already mounted at /content/drive; to attempt to forcibly remount, call drive.mount(\"/content/drive\", force_remount=True).\n"
          ]
        }
      ]
    },
    {
      "cell_type": "markdown",
      "source": [
        "*Step 1: Import Modules*"
      ],
      "metadata": {
        "_cell_guid": "8ac5aba9-de61-4c1a-9197-0806bcd223b5",
        "_uuid": "7f9547358c9cebf0a42166738c7dff19b16ff916",
        "id": "hm9EEhl9O9uh"
      }
    },
    {
      "cell_type": "code",
      "source": [
        "import os\n",
        "from glob import glob\n",
        "import matplotlib.pyplot as plt\n",
        "import random\n",
        "import cv2\n",
        "import pandas as pd\n",
        "import numpy as np\n",
        "import matplotlib.gridspec as gridspec\n",
        "import seaborn as sns\n",
        "import zlib\n",
        "import itertools\n",
        "import sklearn\n",
        "import itertools\n",
        "import scipy\n",
        "import skimage\n",
        "from skimage.transform import resize\n",
        "import csv\n",
        "from tqdm import tqdm\n",
        "from sklearn import model_selection\n",
        "from sklearn.model_selection import train_test_split, learning_curve,KFold,cross_val_score,StratifiedKFold\n",
        "from sklearn.utils import class_weight\n",
        "from sklearn.metrics import confusion_matrix\n",
        "import keras\n",
        "from keras.layers import Dense, Dropout, Activation, Flatten, Conv2D, MaxPooling2D, Lambda, MaxPool2D, BatchNormalization\n",
        "from keras.utils import to_categorical\n",
        "from keras.preprocessing.image import ImageDataGenerator\n",
        "from keras import models, layers, optimizers\n",
        "from sklearn.model_selection import train_test_split\n",
        "from sklearn.metrics import confusion_matrix, accuracy_score\n",
        "from sklearn.utils import class_weight\n",
        "from keras.optimizers import SGD, RMSprop, Adam, Adagrad, Adadelta, RMSprop\n",
        "from keras.models import Sequential, model_from_json\n",
        "from keras.layers import Activation,Dense, Dropout, Flatten, Conv2D, MaxPool2D,MaxPooling2D,AveragePooling2D, BatchNormalization\n",
        "from keras.preprocessing.image import ImageDataGenerator\n",
        "from keras.callbacks import ReduceLROnPlateau, ModelCheckpoint\n",
        "from keras import backend as K\n",
        "from keras.applications.vgg16 import VGG16\n",
        "from keras.models import Model\n",
        "from keras.applications.inception_v3 import InceptionV3\n",
        "from imblearn.over_sampling import RandomOverSampler\n",
        "from imblearn.under_sampling import RandomUnderSampler\n",
        "from sklearn.utils.class_weight import compute_class_weight\n",
        "#from keras.applications.mobilenet import MobileNet\n",
        "#from sklearn.metrics import roc_auc_score\n",
        "#from sklearn.metrics import roc_curve\n",
        "#from sklearn.metrics import auc\n",
        "%matplotlib inline\n",
        "\n",
        "from google.colab import drive\n",
        "drive.mount('/content/drive')\n",
        "\n",
        "import warnings\n",
        "warnings.filterwarnings(\"ignore\")"
      ],
      "metadata": {
        "_cell_guid": "42b35245-93b6-45ed-bcf8-d9ff22473269",
        "_kg_hide-input": true,
        "_kg_hide-output": true,
        "_uuid": "3d3bc91774b6b395666c22dc2cca97af6d5dcbe3",
        "collapsed": true,
        "jupyter": {
          "outputs_hidden": true
        },
        "colab": {
          "base_uri": "https://localhost:8080/"
        },
        "id": "TpMurqHLO9ui",
        "outputId": "f4c27148-ecf7-4912-c158-2efae1e377c5"
      },
      "execution_count": 2,
      "outputs": [
        {
          "output_type": "stream",
          "name": "stdout",
          "text": [
            "Drive already mounted at /content/drive; to attempt to forcibly remount, call drive.mount(\"/content/drive\", force_remount=True).\n"
          ]
        }
      ]
    },
    {
      "cell_type": "markdown",
      "source": [
        "*Step 2: Load Data*"
      ],
      "metadata": {
        "_cell_guid": "59dcc7b7-740e-4ecf-a8ac-c86e66ea3511",
        "_uuid": "be534235b529040019854353c2f3a373300cfb20",
        "id": "k9UGLfFPO9ul"
      }
    },
    {
      "cell_type": "code",
      "source": [
        "imageSize=224\n",
        "train_dir = \"../content/drive/MyDrive/archive/cell_images/train/\"\n",
        "test_dir =  \"../content/drive/MyDrive/archive/cell_images/test/\"\n",
        
        "from tqdm import tqdm\n",
        "def get_data(folder):\n",
        "    \"\"\"\n",
        "    Load the data and labels from the given folder.\n",
        "    \"\"\"\n",
        "    X = []\n",
        "    y = []\n",
        "    for folderName in os.listdir(folder):\n",
        "        if not folderName.startswith('.'):\n",
        "            if folderName in ['Uninfected']:\n",
        "                label = 0\n",
        "            else:\n",
        "                label = 4\n",
        "            for image_filename in tqdm(os.listdir(folder + folderName)):\n",
        "                img_file = cv2.imread(folder + folderName + '/' + image_filename)\n",
        "                if img_file is not None:\n",
        "                    img_file = skimage.transform.resize(img_file, (imageSize, imageSize, 3))\n",
        "                    img_arr = np.asarray(img_file)\n",
        "                    X.append(img_arr)\n",
        "                    y.append(label)\n",
        "    X = np.asarray(X)\n",
        "    y = np.asarray(y)\n",
        "    return X,y\n",
        "#X_train, y_train = get_data(train_dir) # Un-comment to use full dataset: Step 1 of 2\n",
        "X_test, y_test= get_data(test_dir)\n",
        "\n",
        "from sklearn.model_selection import train_test_split\n",
        "X_train, X_test, y_train, y_test = train_test_split(X_test, y_test, test_size=0.3) # Re-comment to use full dataset: Step 2 of 2\n",
        "\n",
        "#Encode labels to hot vectors (ex : 2 -> [0,0,1,0,0,0,0,0,0,0])\n",
        "from keras.utils import to_categorical\n",
        "y_trainHot = to_categorical(y_train, num_classes = 4)\n",
        "y_testHot = to_categorical(y_test, num_classes = 4)"
      ],
      "metadata": {
        "_cell_guid": "86a1fb25-c9b2-41fe-8bc3-01d91f7054bb",
        "_uuid": "22c127e3183a316ca314946688e21db95a7dc4ca",
        "collapsed": true,
        "jupyter": {
          "outputs_hidden": true
        },
        "id": "6nxyzZYqO9um",
        "colab": {
          "base_uri": "https://localhost:8080/"
        },
        "outputId": "df86fb8f-5667-4b41-a50f-f0cc9828d32c"
      },
      "execution_count": null,
      "outputs": [
        {
          "output_type": "stream",
          "name": "stderr",
          "text": [
            " 67%|██████▋   | 9211/13820 [10:52<16:29,  4.66it/s]"
          ]
        }
      ]
    },
    {
      "cell_type": "markdown",
      "source": [
        "*Step 3: Vizualize Data*"
      ],
      "metadata": {
        "_cell_guid": "9697e49e-842c-4036-ae9f-641046758573",
        "_uuid": "6a6b491f3ab910d04a2e7053eb8fb50eac2713c3",
        "id": "4Q2fFPkTO9uo"
      }
    },
    {
      "cell_type": "markdown",
      "source": [
        "The min/max pixel values are already scaled between 0 and 1"
      ],
      "metadata": {
        "_cell_guid": "a8175a28-50e7-4ef0-bdce-7d45de647677",
        "_uuid": "23b61840058209bb797359e6b9eed686b5ecf3ac",
        "id": "yJiRc5i8O9up"
      }
    },
    {
      "cell_type": "code",
      "source": [
        "def plotHistogram(a):\n",
        "    \"\"\"\n",
        "    Plot histogram of RGB Pixel Intensities\n",
        "    \"\"\"\n",
        "    plt.figure(figsize=(10,5))\n",
        "    plt.subplot(1,2,1)\n",
        "    plt.imshow(a)\n",
        "    plt.axis('off')\n",
        "    histo = plt.subplot(1,2,2)\n",
        "    histo.set_ylabel('Count')\n",
        "    histo.set_xlabel('Pixel Intensity')\n",
        "    n_bins = 30\n",
        "    plt.hist(a[:,:,0].flatten(), bins= n_bins, lw = 0, color='r', alpha=0.5);\n",
        "    plt.hist(a[:,:,1].flatten(), bins= n_bins, lw = 0, color='g', alpha=0.5);\n",
        "    plt.hist(a[:,:,2].flatten(), bins= n_bins, lw = 0, color='b', alpha=0.5);\n",
        "plotHistogram(X_train[1])"
      ],
      "metadata": {
        "_cell_guid": "1abb596c-5c13-4d48-aaf2-d4683f822511",
        "_uuid": "eb614459b47542a02b0bf9241d778922d6800a88",
        "collapsed": true,
        "jupyter": {
          "outputs_hidden": true
        },
        "id": "SxO3P44tO9uq",
        "colab": {
          "base_uri": "https://localhost:8080/",
          "height": 176
        },
        "outputId": "95d2f281-c567-4a66-ddf4-efef9d5b28d7"
      },
      "execution_count": 1,
      
    {
      "cell_type": "markdown",
      "source": [
        "3 images from category \"Uninfected\""
      ],
      "metadata": {
        "_cell_guid": "ee1a586a-7c7d-4e05-9341-5b7405849492",
        "_uuid": "5328b63c34231563f8bfc2229f8b6efe76291c0e",
        "id": "CSTJV-z0O9ur"
      }
    },
    {
      "cell_type": "code",
      "source": [
        "multipleImages = glob('../content/drive/MyDrive/archive/cell_images/train/Uninfected/**')\n",
        "def plotThreeImages(images):\n",
        "    r = random.sample(images, 3)\n",
        "    plt.figure(figsize=(16,16))\n",
        "    plt.subplot(131)\n",
        "    plt.imshow(cv2.imread(r[0]))\n",
        "    plt.subplot(132)\n",
        "    plt.imshow(cv2.imread(r[1]))\n",
        "    plt.subplot(133)\n",
        "    plt.imshow(cv2.imread(r[2]));\n",
        "plotThreeImages(multipleImages)"
      ],
      "metadata": {
        "_cell_guid": "ca9e3937-1a11-423a-9615-64e56220225a",
        "_uuid": "1d8945520f8763653c798ccfa7a7e270367cf09f",
        "collapsed": true,
        "jupyter": {
          "outputs_hidden": true
        },
        "id": "2cnsdxeSO9ur"
      },
      "execution_count": null,
      "outputs": []
    },
    {
      "cell_type": "markdown",
      "source": [
        "20 images from category \"Uninfected\""
      ],
      "metadata": {
        "_cell_guid": "199e4466-a943-4de8-892e-c9ba068265c8",
        "_uuid": "16f6d7087f9523d1633ecf65985c091ce8d64ba7",
        "id": "wb8t8C3GO9us"
      }
    },
    {
      "cell_type": "code",
      "source": [
        "print(\"Normal\")\n",
        "multipleImages = glob('../content/drive/MyDrive/archive/cell_images/train/Uninfected/**')\n",
        "i_ = 0\n",
        "plt.rcParams['figure.figsize'] = (10.0, 10.0)\n",
        "plt.subplots_adjust(wspace=0, hspace=0)\n",
        "for l in multipleImages[:25]:\n",
        "    im = cv2.imread(l)\n",
        "    im = cv2.resize(im, (128, 128))\n",
        "    plt.subplot(5, 5, i_+1) #.set_title(l)\n",
        "    plt.imshow(cv2.cvtColor(im, cv2.COLOR_BGR2RGB)); plt.axis('off')\n",
        "    i_ += 1"
      ],
      "metadata": {
        "_cell_guid": "cd7271b9-db7e-4077-b7e0-82a7d182a223",
        "_uuid": "2be42c9523cd6e2434a43ac5515736101971aa9e",
        "collapsed": true,
        "jupyter": {
          "outputs_hidden": true
        },
        "id": "4o4ux1CyO9us"
      },
      "execution_count": null,
      "outputs": []
    },
    {
      "cell_type": "markdown",
      "source": [
        "20 images from category \"CNV\""
      ],
      "metadata": {
        "_cell_guid": "ec88b5d9-327f-4089-b3aa-3c4045d76025",
        "_uuid": "472d6a6c0a604aac9017b03bf8e885adc19aa90c",
        "id": "zgI3HJQ3O9ut"
      }
    },
    {
      "cell_type": "code",
      "source": [
        "print(\"CNV\")\n",
        "multipleImages = glob('../content/drive/MyDrive/archive/cell_images/train/Parasitized/**')\n",
        "i_ = 0\n",
        "plt.rcParams['figure.figsize'] = (10.0, 10.0)\n",
        "plt.subplots_adjust(wspace=0, hspace=0)\n",
        "for l in multipleImages[:25]:\n",
        "    im = cv2.imread(l)\n",
        "    im = cv2.resize(im, (128, 128))\n",
        "    plt.subplot(5, 5, i_+1) #.set_title(l)\n",
        "    plt.imshow(cv2.cvtColor(im, cv2.COLOR_BGR2RGB)); plt.axis('off')\n",
        "    i_ += 1"
      ],
      "metadata": {
        "_cell_guid": "f5334023-e1cc-4b1e-a8fc-64237115e88f",
        "_uuid": "e8cfa379815959d01f5d78113e4ebd6e2d5f4084",
        "collapsed": true,
        "jupyter": {
          "outputs_hidden": true
        },
        "id": "l15cIrq0O9ut"
      },
      "execution_count": null,
      "outputs": []
    },
    {
      "cell_type": "code",
      "source": [
        "map_characters = {0: 'Uninfected', 1: 'Parasitized'}\n",
        "dict_characters=map_characters\n",
        "import seaborn as sns\n",
        "df = pd.DataFrame()\n",
        "df[\"labels\"]=y_train\n",
        "lab = df['labels']\n",
        "dist = lab.value_counts()\n",
        "sns.countplot(lab)\n",
        "print(dict_characters)"
      ],
      "metadata": {
        "_cell_guid": "acafe27f-6c13-4091-9ce0-907c5784eb79",
        "_uuid": "6384bf60c740fc5cc97c90c6bb4a170e294210b2",
        "collapsed": true,
        "jupyter": {
          "outputs_hidden": true
        },
        "id": "dOKnNLFTO9uw"
      },
      "execution_count": null,
      "outputs": []
    },
    {
      "cell_type": "code",
      "source": [
        "# Helper Functions  Learning Curves and Confusion Matrix\n",
        "\n",
        "from keras.callbacks import Callback, EarlyStopping, ReduceLROnPlateau, ModelCheckpoint\n",
        "\n",
        "class MetricsCheckpoint(Callback):\n",
        "    \"\"\"Callback that saves metrics after each epoch\"\"\"\n",
        "    def __init__(self, savepath):\n",
        "        super(MetricsCheckpoint, self).__init__()\n",
        "        self.savepath = savepath\n",
        "        self.history = {}\n",
        "    def on_epoch_end(self, epoch, logs=None):\n",
        "        for k, v in logs.items():\n",
        "            self.history.setdefault(k, []).append(v)\n",
        "        np.save(self.savepath, self.history)\n",
        "\n",
        "def plotKerasLearningCurve():\n",
        "    plt.figure(figsize=(10,5))\n",
        "    metrics = np.load('logs.npy')[()]\n",
        "    filt = ['acc'] # try to add 'loss' to see the loss learning curve\n",
        "    for k in filter(lambda x : np.any([kk in x for kk in filt]), metrics.keys()):\n",
        "        l = np.array(metrics[k])\n",
        "        plt.plot(l, c= 'r' if 'val' not in k else 'b', label='val' if 'val' in k else 'train')\n",
        "        x = np.argmin(l) if 'loss' in k else np.argmax(l)\n",
        "        y = l[x]\n",
        "        plt.scatter(x,y, lw=0, alpha=0.25, s=100, c='r' if 'val' not in k else 'b')\n",
        "        plt.text(x, y, '{} = {:.4f}'.format(x,y), size='15', color= 'r' if 'val' not in k else 'b')\n",
        "    plt.legend(loc=4)\n",
        "    plt.axis([0, None, None, None]);\n",
        "    plt.grid()\n",
        "    plt.xlabel('Number of epochs')\n",
        "    plt.ylabel('Accuracy')\n",
        "\n",
        "def plot_confusion_matrix(cm, classes,\n",
        "                          normalize=False,\n",
        "                          title='Confusion matrix',\n",
        "                          cmap=plt.cm.Blues):\n",
        "    \"\"\"\n",
        "    This function prints and plots the confusion matrix.\n",
        "    Normalization can be applied by setting `normalize=True`.\n",
        "    \"\"\"\n",
        "    plt.figure(figsize = (5,5))\n",
        "    plt.imshow(cm, interpolation='nearest', cmap=cmap)\n",
        "    plt.title(title)\n",
        "    plt.colorbar()\n",
        "    tick_marks = np.arange(len(classes))\n",
        "    plt.xticks(tick_marks, classes, rotation=90)\n",
        "    plt.yticks(tick_marks, classes)\n",
        "    if normalize:\n",
        "        cm = cm.astype('float') / cm.sum(axis=1)[:, np.newaxis]\n",
        "\n",
        "    thresh = cm.max() / 2.\n",
        "    for i, j in itertools.product(range(cm.shape[0]), range(cm.shape[1])):\n",
        "        plt.text(j, i, cm[i, j],\n",
        "                 horizontalalignment=\"center\",\n",
        "                 color=\"white\" if cm[i, j] > thresh else \"black\")\n",
        "    plt.tight_layout()\n",
        "    plt.ylabel('True label')\n",
        "    plt.xlabel('Predicted label')\n",
        "\n",
        "def plot_learning_curve(history):\n",
        "    plt.figure(figsize=(8,8))\n",
        "    plt.subplot(1,2,1)\n",
        "    plt.plot(history.history['acc'])\n",
        "    plt.plot(history.history['val_acc'])\n",
        "    plt.title('model accuracy')\n",
        "    plt.ylabel('accuracy')\n",
        "    plt.xlabel('epoch')\n",
        "    plt.legend(['train', 'test'], loc='upper left')\n",
        "    plt.savefig('./accuracy_curve.png')\n",
        "    plt.subplot(1,2,2)\n",
        "    plt.plot(history.history['loss'])\n",
        "    plt.plot(history.history['val_loss'])\n",
        "    plt.title('model loss')\n",
        "    plt.ylabel('loss')\n",
        "    plt.xlabel('epoch')\n",
        "    plt.legend(['train', 'test'], loc='upper left')\n",
        "    plt.savefig('./loss_curve.png')"
      ],
      "metadata": {
        "_cell_guid": "5c2b5fc4-e1af-4dfe-a928-8a8076c73d59",
        "_uuid": "992129dbd3c7695bdd2e2497a6a56da0227c8c0d",
        "collapsed": true,
        "jupyter": {
          "outputs_hidden": true
        },
        "id": "VaGt7WB0O9ux"
      },
      "execution_count": null,
      "outputs": []
    },
    {
      "cell_type": "code",
      "source": [
        "from sklearn.utils.class_weight import compute_class_weight\n"
      ],
      "metadata": {
        "id": "9dFimfwgK7s5"
      },
      "execution_count": null,
      "outputs": []
    },
    {
      "cell_type": "markdown",
      "source": [
        "Transfer learning w/ VGG16 Convolutional Network"
      ],
      "metadata": {
        "_cell_guid": "3dac612a-0543-47a7-b9be-9a45820b0473",
        "_uuid": "7bb6dff5a30e1644bbfffa0a7c7b5992df5a494c",
        "id": "brE6n7tvO9uy"
      }
    },
    {
      "cell_type": "code",
      "source": [
        "import sklearn.metrics as metrics\n",
        "map_characters1 = {0: 'Uninfected', 1: 'Parasitized', }\n",
        "class_weight1 = class_weight.compute_class_weight('balanced',classes=np.unique(y_train),y=y_train)\n",
        "\n",
        "weight_path1 = \"../content/drive/MyDrive/archive(3)/vgg16_weights_tf_dim_ordering_tf_kernels_notop.h5\"\n",
        "weight_path2 = \"../content/drive/MyDrive/archive(3)/inception_v3_weights_tf_dim_ordering_tf_kernels_notop.h5\"\n",
        "#weight_path1 = \"../input/keras-pretrained-models/vgg16_weights_tf_dim_ordering_tf_kernels_notop.h5\"\n",
        "#weight_path2 = \"../input/keras-pretrained-models/inception_v3_weights_tf_dim_ordering_tf_kernels_notop.h5\"\n",
        "pretrained_model_1 = VGG16(weights = weight_path1, include_top=False, input_shape=(imageSize, imageSize, 3))\n",
        "pretrained_model_2 = InceptionV3(weights = weight_path2, include_top=False, input_shape=(imageSize, imageSize, 3))\n",
        "optimizer1 = keras.optimizers.Adam()\n",
        "optimizer2 = keras.optimizers.RMSprop(lr=0.0001)\n",
        "def pretrainedNetwork(xtrain,ytrain,xtest,ytest,pretrainedmodel,pretrainedweights,classweight,numclasses,numepochs,optimizer,labels):\n",
        "    base_model = pretrained_model_1 # Topless\n",
        "    # Add top layer\n",
        "    x = base_model.output\n",
        "    x = Flatten()(x)\n",
        "    predictions = Dense(numclasses, activation='softmax')(x)\n",
        "    model = Model(inputs=base_model.input, outputs=predictions)\n",
        "    # Train top layer\n",
        "    for layer in base_model.layers:\n",
        "        layer.trainable = False\n",
        "    model.compile(loss='categorical_crossentropy',\n",
        "                  optimizer=optimizer,\n",
        "                  metrics=['accuracy'])\n",
        "    callbacks_list = [keras.callbacks.EarlyStopping(monitor='val_acc', patience=3, verbose=1)]\n",
        "    model.summary()\n",
        "    # Fit model\n",
        "    history = model.fit(xtrain,ytrain, epochs=numepochs, class_weight=classweight, validation_data=(xtest,ytest), verbose=1,callbacks = [MetricsCheckpoint('logs')])\n",
        "    # Evaluate model\n",
        "    score = model.evaluate(xtest,ytest, verbose=0)\n",
        "    print('\\nKeras CNN - accuracy:', score[1], '\\n')\n",
        "    y_pred = model.predict(xtest)\n",
        "    print('\\n', sklearn.metrics.classification_report(np.where(ytest > 0)[1], np.argmax(y_pred, axis=1), target_names=list(labels.values())), sep='')\n",
        "    Y_pred_classes = np.argmax(y_pred,axis = 1)\n",
        "    Y_true = np.argmax(ytest,axis = 1)\n",
        "    confusion_mtx = confusion_matrix(Y_true, Y_pred_classes)\n",
        "    plotKerasLearningCurve()\n",
        "    plt.show()\n",
        "    plot_learning_curve(history)\n",
        "    plt.show()\n",
        "    plot_confusion_matrix(confusion_mtx, classes = list(labels.values()))\n",
        "    plt.show()\n",
        "    return model\n"
      ],
      "metadata": {
        "_cell_guid": "da473dc4-7e79-4be0-97aa-c7cca6e8aa43",
        "scrolled": true,
        "_uuid": "1b8d8acad18ea6c063c61c50d84c5c65f8678b21",
        "collapsed": true,
        "jupyter": {
          "outputs_hidden": true
        },
        "id": "wj2CnTDGO9uz"
      },
      "execution_count": null,
      "outputs": []
    },
    {
      "cell_type": "code",
      "source": [
        "\n",
        "# Make Data 1D for compatability upsampling methods\n",
        "X_trainShape = X_train.shape[1]*X_train.shape[2]*X_train.shape[3]\n",
        "X_testShape = X_test.shape[1]*X_test.shape[2]*X_test.shape[3]\n",
        "X_trainFlat = X_train.reshape(X_train.shape[0], X_trainShape)\n",
        "X_testFlat = X_test.reshape(X_test.shape[0], X_testShape)\n",
        "Y_train = y_train\n",
        "Y_test = y_test\n",
        "#ros = RandomOverSampler(ratio='auto')\n",
        "ros = RandomUnderSampler(sampling_strategy='auto')\n",
        "X_trainRos, Y_trainRos = ros.fit_resample(X_trainFlat, Y_train)\n",
        "X_testRos, Y_testRos = ros.fit_resample(X_testFlat, Y_test)\n",
        "# Encode labels to hot vectors (ex : 2 -> [0,0,1,0,0,0,0,0,0,0])\n",
        "Y_trainRosHot = to_categorical(Y_trainRos, num_classes = 4)\n",
        "Y_testRosHot = to_categorical(Y_testRos, num_classes = 4)\n",
        "# Make Data 2D again\n",
        "for i in range(len(X_trainRos)):\n",
        "    height, width, channels = imageSize,imageSize,3\n",
        "    X_trainRosReshaped = X_trainRos.reshape(len(X_trainRos),height,width,channels)\n",
        "for i in range(len(X_testRos)):\n",
        "    height, width, channels = imageSize,imageSize,3\n",
        "    X_testRosReshaped = X_testRos.reshape(len(X_testRos),height,width,channels)\n",
        "# Plot Label Distribution\n",
        "dfRos = pd.DataFrame()\n",
        "dfRos[\"labels\"]=Y_trainRos\n",
        "labRos = dfRos['labels']\n",
        "distRos = lab.value_counts()\n",
        "sns.countplot(labRos)\n",
        "print(dict_characters)"
      ],
      "metadata": {
        "_cell_guid": "a86b7d6e-f4d3-4c8c-9807-c92897e875a0",
        "_uuid": "212b47546c7033f8edf8480db2eae7b6a5e39cc4",
        "collapsed": true,
        "jupyter": {
          "outputs_hidden": true
        },
        "id": "AGwxgSPnO9u1"
      },
      "execution_count": null,
      "outputs": []
    },
    {
      "cell_type": "code",
      "source": [
        "class_weight1 = class_weight.compute_class_weight('balanced', classes=np.unique(Y_train),y= Y_train)\n",
        "print(\"Old Class Weights: \",class_weight1)\n",
        "class_weight2 = class_weight.compute_class_weight('balanced', classes=np.unique(Y_trainRos), y=Y_trainRos)\n",
        "print(\"New Class Weights: \",class_weight2)"
      ],
      "metadata": {
        "_cell_guid": "34ebec12-65c4-4fd8-b958-47e0b71ec6d4",
        "_uuid": "67f4555b0de9afd8f09c2ebe0a207ef7c9b3ff3b",
        "collapsed": true,
        "jupyter": {
          "outputs_hidden": true
        },
        "id": "JaIpQoNkO9u1"
      },
      "execution_count": null,
      "outputs": []
    },
    {
      "cell_type": "code",
      "source": [
        "# Shuffle data to permit further subsampling\n",
        "from sklearn.utils import shuffle\n",
        "X_trainRosReshaped, Y_trainRosHot = shuffle(X_trainRosReshaped, Y_trainRosHot, random_state=13)\n",
        "X_testRosReshaped, Y_testRosHot = shuffle(X_testRosReshaped, Y_testRosHot, random_state=13)\n"
      ],
      "metadata": {
        "_cell_guid": "175cd416-3af4-43e6-8d61-f359fa1ca37b",
        "_uuid": "811770958a8cd2465a286ebfe0a285a496250ca4",
        "collapsed": true,
        "jupyter": {
          "outputs_hidden": true
        },
        "id": "u4GasZ_6O9u2"
      },
      "execution_count": null,
      "outputs": []
    },
    {
      "cell_type": "code",
      "source": [
        "pretrainedNetwork(X_trainRosReshaped[:10000], Y_trainRosHot[:10000], X_testRosReshaped[:2000],\n",
        "                   Y_testRosHot[:2000], pretrained_model_1, weight_path1, class_weight2, 4,50,optimizer1,\n",
        "                    map_characters1)\n"
      ],
      "metadata": {
        "_cell_guid": "05478c4a-c827-4506-8a32-acefbd0ea8b1",
        "_uuid": "36944af843d6d49cddd17675212870d6bf84c26e",
        "collapsed": true,
        "jupyter": {
          "outputs_hidden": true
        },
        "id": "zC2XSfwpO9u2"
      },
      "execution_count": null,
      "outputs": []
    },
    {
      "cell_type": "markdown",
      "source": [
        "Transfer learning w/ InceptionV3 Convolutional Network"
      ],
      "metadata": {
        "_cell_guid": "67cb2826-b5df-4e73-9574-0cdd107e095e",
        "_uuid": "3873909ac6f0e0c7679596f489a5124b432c9df1",
        "id": "F1O5NJ7mO9u3"
      }
    },
    {
      "cell_type": "code",
      "source": [
        "pretrainedNetwork(X_trainRosReshaped[:10000],\n",
        "                  Y_trainRosHot[:10000],\n",
        "                  X_testRosReshaped[:2000],\n",
        "                  Y_testRosHot[:2000],\n",
        "                  pretrained_model_2,\n",
        "                  weight_path2,\n",
        "                  class_weight2,\n",
        "                  4,\n",
        "                  50,\n",
        "                  optimizer1,\n",
        "                  map_characters1)\n"
      ],
      "metadata": {
        "_cell_guid": "136dc79f-f183-4200-a10e-6ee225cbce2d",
        "_uuid": "896c27491f8d61784032cf44984d75e31717a956",
        "collapsed": true,
        "jupyter": {
          "outputs_hidden": true
        },
        "id": "2zyxg_dHO9u3"
      },
      "execution_count": null,
      "outputs": []
    }
  ]
}
